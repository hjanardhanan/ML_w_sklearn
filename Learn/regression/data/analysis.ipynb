{
 "cells": [
  {
   "cell_type": "code",
   "execution_count": 192,
   "metadata": {},
   "outputs": [],
   "source": [
    "import pandas as pd\n",
    "import numpy as np\n",
    "import os\n",
    "df = pd.read_csv('scrap_price.csv')\n",
    "\n",
    "drop_cols = ['ID', 'aspiration', 'enginelocation', 'enginetype', 'fuelsystem']\n",
    "price_col = ['price']\n",
    "df.drop(columns=drop_cols, inplace=True)"
   ]
  },
  {
   "cell_type": "code",
   "execution_count": 193,
   "metadata": {},
   "outputs": [],
   "source": [
    "# Function to print object cols\n",
    "def obj_cols(df, print = False) :\n",
    "    obj_cols = df.select_dtypes('object').columns.to_list()\n",
    "    if print :\n",
    "        for col in obj_cols :\n",
    "            print (col, \" : \", df[col].unique())\n",
    "    return list(set(obj_cols) - set(price_col))\n",
    "\n",
    "def num_cols(df, print = False) :\n",
    "    return list(set(df.columns) - set(obj_cols(df)) - set(price_col))"
   ]
  },
  {
   "cell_type": "code",
   "execution_count": 194,
   "metadata": {},
   "outputs": [],
   "source": [
    "# Assuming these factors dont affect price\n",
    "# Note : another wa\n",
    "drop_cols = ['ID', 'aspiration', 'enginelocation', 'enginetype', 'fuelsystem']\n",
    "# Transform name -> Manufacturer, which is first substring\n",
    "df['name'] = df['name'].apply(lambda x : str(x).split()[0])"
   ]
  },
  {
   "cell_type": "code",
   "execution_count": 195,
   "metadata": {},
   "outputs": [],
   "source": [
    "from sklearn.pipeline import Pipeline\n",
    "from sklearn.preprocessing import OneHotEncoder, MinMaxScaler\n",
    "\n",
    "# Convert 'cylinder' to number as directly propotional to cost\n",
    "def numstr_to_int(string) :\n",
    "    if string == 'twelve' :\n",
    "        return 12\n",
    "    entries = ['one', 'two', 'three', 'four', 'five', 'six', 'seven', 'eight']\n",
    "    return int(entries.index(string))\n",
    "\n",
    "df['cylindernumber'] = df['cylindernumber'].apply(numstr_to_int)\n",
    "\n",
    "def custom_name(feature, category) :\n",
    "    return str(feature) + \"_\" + str(category)\n",
    "# Convert other categorical data to binary encoding\n",
    "categ_pipeline = Pipeline(steps= [\n",
    "                            ('one-hot', OneHotEncoder(handle_unknown='ignore', sparse_output=False))\n",
    "                                ]\n",
    "                        )\n",
    "\n",
    "from sklearn.preprocessing import FunctionTransformer\n",
    "# Log transform since there are right skewed data\n",
    "def log_transform(x) :\n",
    "    return np.log(1+x)\n",
    "\n",
    "LogTransformer = FunctionTransformer(func=log_transform,\n",
    "                                     feature_names_out='one-to-one')\n",
    "# Scale numeric data\n",
    "num_pipeline = Pipeline(steps = [\n",
    "                            ('scale', MinMaxScaler()),\n",
    "                            ('log_transform', LogTransformer)\n",
    "                                ]\n",
    "                        )"
   ]
  },
  {
   "cell_type": "code",
   "execution_count": 196,
   "metadata": {},
   "outputs": [],
   "source": [
    "# Drop outliers\n",
    "outlier_threshold = 3\n",
    "for col in num_cols(df):\n",
    "    if col == 'price' :\n",
    "        continue\n",
    "    Q3, Q1 = df[col].quantile(0.75), df[col].quantile(0.25)\n",
    "    IQR = Q3 - Q1\n",
    "    threshold = 1.5\n",
    "    outlier = df[(df[col] < Q1 - threshold * IQR) | (df[col] > Q3 + threshold * IQR)]\n",
    "    pc_outlier = len(outlier) *100 / len(df)\n",
    "    # print (col, \" : \", pc_outlier)\n",
    "    if pc_outlier < outlier_threshold and pc_outlier > 0 :\n",
    "        df = df.drop(outlier.index)"
   ]
  },
  {
   "cell_type": "code",
   "execution_count": 199,
   "metadata": {},
   "outputs": [
    {
     "name": "stdout",
     "output_type": "stream",
     "text": [
      "(197, 21)\n",
      "Index(['num_pipeline__cylindernumber', 'num_pipeline__highwaympg',\n",
      "       'num_pipeline__citympg', 'num_pipeline__stroke',\n",
      "       'num_pipeline__carwidth', 'num_pipeline__curbweight',\n",
      "       'num_pipeline__peakrpm', 'num_pipeline__symboling',\n",
      "       'num_pipeline__horsepower', 'num_pipeline__compressionratio',\n",
      "       'num_pipeline__enginesize', 'num_pipeline__wheelbase',\n",
      "       'num_pipeline__carheight', 'num_pipeline__carlength',\n",
      "       'num_pipeline__boreratio', 'remainder__name', 'remainder__fueltypes',\n",
      "       'remainder__doornumbers', 'remainder__carbody',\n",
      "       'remainder__drivewheels', 'remainder__price'],\n",
      "      dtype='object')\n"
     ]
    }
   ],
   "source": [
    "# Apply column transformers\n",
    "from sklearn.compose import ColumnTransformer\n",
    "col_trans = ColumnTransformer(transformers = [\n",
    "    ('num_pipeline', num_pipeline, num_cols(df)),\n",
    "    ('categ_pipeline', categ_pipeline, obj_cols(df))\n",
    "])\n",
    "df1 = pd.DataFrame(col_trans.fit_transform(df), columns=col_trans.get_feature_names_out())\n",
    "df1['price'] = pd.DataFrame(df['price'], columns=['price'])\n",
    "print(df1.columns)"
   ]
  },
  {
   "cell_type": "code",
   "execution_count": 198,
   "metadata": {},
   "outputs": [],
   "source": [
    "import matplotlib.pyplot as plt\n",
    "def hist_plot(df) :\n",
    "    for i in num_cols(df):\n",
    "        plt.figure()\n",
    "        # print(df[i].unique())\n",
    "        plt.hist(df[i])\n",
    "        plt.legend([i])\n",
    "df1.to_csv('scrap_price_cleaned.csv')"
   ]
  }
 ],
 "metadata": {
  "kernelspec": {
   "display_name": "myenv",
   "language": "python",
   "name": "python3"
  },
  "language_info": {
   "codemirror_mode": {
    "name": "ipython",
    "version": 3
   },
   "file_extension": ".py",
   "mimetype": "text/x-python",
   "name": "python",
   "nbconvert_exporter": "python",
   "pygments_lexer": "ipython3",
   "version": "3.10.13"
  }
 },
 "nbformat": 4,
 "nbformat_minor": 2
}
